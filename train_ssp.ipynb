{
 "cells": [
  {
   "cell_type": "code",
   "execution_count": 1,
   "metadata": {},
   "outputs": [],
   "source": [
    "import torch\n",
    "import torch.nn as nn\n",
    "import torch.nn.functional as F\n",
    "import torch.linalg as LA\n",
    "import numpy as np\n",
    "\n",
    "from model import *\n",
    "from Simulator import *"
   ]
  },
  {
   "cell_type": "markdown",
   "metadata": {},
   "source": [
    "## visualizing"
   ]
  },
  {
   "cell_type": "code",
   "execution_count": 2,
   "metadata": {},
   "outputs": [],
   "source": [
    "models=[\n",
    "    {'name': SSP, 'kwargs': {'incongruency': True}}, \n",
    "    # {'name': SSP, 'kwargs': {'incongruency': False}},\n",
    "]\n",
    "dataset = SSP_DDM_Dataset(n_obs=10, length=1000, models=models)\n",
    "dataloader = DataLoader(dataset, batch_size=64)\n",
    "for i ,(m,p,x) in enumerate(dataloader):\n",
    "    x1 = x\n",
    "    break\n",
    "models=[\n",
    "    # {'name': SSP, 'kwargs': {'incongruency': True}}, \n",
    "    {'name': SSP, 'kwargs': {'incongruency': False}},\n",
    "]\n",
    "dataset = SSP_DDM_Dataset(n_obs=10, length=1000, models=models)\n",
    "dataloader = DataLoader(dataset, batch_size=64)\n",
    "for i ,(m,p,x) in enumerate(dataloader):\n",
    "    x2 = x\n",
    "    break"
   ]
  },
  {
   "cell_type": "code",
   "execution_count": 3,
   "metadata": {},
   "outputs": [
    {
     "data": {
      "text/plain": [
       "(tensor(0.5725), tensor(1.1557))"
      ]
     },
     "execution_count": 3,
     "metadata": {},
     "output_type": "execute_result"
    }
   ],
   "source": [
    "x1.mean(), x2.mean()"
   ]
  },
  {
   "cell_type": "code",
   "execution_count": 4,
   "metadata": {},
   "outputs": [
    {
     "data": {
      "image/png": "[encoded data removed]",
      "text/plain": [
       "<Figure size 640x480 with 1 Axes>"
      ]
     },
     "metadata": {},
     "output_type": "display_data"
    }
   ],
   "source": [
    "fig, axes = plt.subplots(1,1)\n",
    "axes.hist(x1.reshape(-1), bins=30, alpha=0.5, label='incong')\n",
    "axes.hist(x2.reshape(-1), bins=30, alpha=0.5, label='cong')\n",
    "axes.legend()\n",
    "plt.show()"
   ]
  },
  {
   "cell_type": "markdown",
   "metadata": {},
   "source": [
    "# training"
   ]
  },
  {
   "cell_type": "code",
   "execution_count": 11,
   "metadata": {},
   "outputs": [],
   "source": [
    "models=[\n",
    "    {'name': SSP, 'kwargs': {'incongruency': True}}, \n",
    "    {'name': SSP, 'kwargs': {'incongruency': False}},\n",
    "]\n",
    "# f_n_obs = np.random.choice([10 * (i+1) for i in range(10)])\n",
    "dataset = SSP_DDM_Dataset(n_obs=100, length=1000, models=models)\n",
    "dataloader = DataLoader(dataset, batch_size=1)"
   ]
  },
  {
   "cell_type": "code",
   "execution_count": 12,
   "metadata": {},
   "outputs": [],
   "source": [
    "equiv_dim, inv_dim, evid_dim = 64, 64, 128\n",
    "summary_net = InvariantNetwork(1, equiv_dim, inv_dim)\n",
    "evidential_net = EvidentialNetwork(inv_dim + 1, evid_dim, n_models=2)"
   ]
  },
  {
   "cell_type": "code",
   "execution_count": 13,
   "metadata": {},
   "outputs": [
    {
     "data": {
      "text/plain": [
       "(66688, 41730)"
      ]
     },
     "execution_count": 13,
     "metadata": {},
     "output_type": "execute_result"
    }
   ],
   "source": [
    "(sum([p.numel() for p in summary_net.parameters()]),\n",
    "sum([p.numel() for p in evidential_net.parameters()]))"
   ]
  },
  {
   "cell_type": "code",
   "execution_count": 47,
   "metadata": {},
   "outputs": [
    {
     "data": {
      "text/plain": [
       "<All keys matched successfully>"
      ]
     },
     "execution_count": 47,
     "metadata": {},
     "output_type": "execute_result"
    }
   ],
   "source": [
    "params = torch.load('ckpt_ssp.pth')\n",
    "summary_net.load_state_dict(params['summary_net'])\n",
    "evidential_net.load_state_dict(params['evidential_net'])"
   ]
  },
  {
   "cell_type": "code",
   "execution_count": 14,
   "metadata": {},
   "outputs": [],
   "source": [
    "device = 'cuda'\n",
    "summary_net = summary_net.to(device)\n",
    "evidential_net = evidential_net.to(device)"
   ]
  },
  {
   "cell_type": "code",
   "execution_count": 16,
   "metadata": {},
   "outputs": [],
   "source": [
    "epoch = 5\n",
    "lr = 1e-4\n",
    "from torch.optim import Adam\n",
    "optimizer = Adam([\n",
    "    {'params': summary_net.parameters()},\n",
    "    {'params': evidential_net.parameters()}\n",
    "], lr=lr)\n",
    "lamb = 0.1"
   ]
  },
  {
   "cell_type": "code",
   "execution_count": 17,
   "metadata": {},
   "outputs": [
    {
     "name": "stdout",
     "output_type": "stream",
     "text": [
      "epoch 0:,  0.6583,  0.6030\n"
     ]
    },
    {
     "ename": "KeyboardInterrupt",
     "evalue": "",
     "output_type": "error",
     "traceback": [
      "\u001b[1;31m---------------------------------------------------------------------------\u001b[0m",
      "\u001b[1;31mKeyboardInterrupt\u001b[0m                         Traceback (most recent call last)",
      "\u001b[1;32mc:\\Users\\Chen\\Documents\\Projects\\OnlineModelComparison\\Reproducion\\train_ssp.ipynb Cell 13\u001b[0m in \u001b[0;36m<cell line: 3>\u001b[1;34m()\u001b[0m\n\u001b[0;32m      <a href='vscode-notebook-cell:/c%3A/Users/Chen/Documents/Projects/OnlineModelComparison/Reproducion/train_ssp.ipynb#X15sZmlsZQ%3D%3D?line=1'>2</a>\u001b[0m rec_acc \u001b[39m=\u001b[39m []\n\u001b[0;32m      <a href='vscode-notebook-cell:/c%3A/Users/Chen/Documents/Projects/OnlineModelComparison/Reproducion/train_ssp.ipynb#X15sZmlsZQ%3D%3D?line=2'>3</a>\u001b[0m \u001b[39mfor\u001b[39;00m i_epoch \u001b[39min\u001b[39;00m \u001b[39mrange\u001b[39m(epoch):\n\u001b[1;32m----> <a href='vscode-notebook-cell:/c%3A/Users/Chen/Documents/Projects/OnlineModelComparison/Reproducion/train_ssp.ipynb#X15sZmlsZQ%3D%3D?line=3'>4</a>\u001b[0m     \u001b[39mfor\u001b[39;00m i ,(m,p,x) \u001b[39min\u001b[39;00m \u001b[39menumerate\u001b[39m(dataloader):\n\u001b[0;32m      <a href='vscode-notebook-cell:/c%3A/Users/Chen/Documents/Projects/OnlineModelComparison/Reproducion/train_ssp.ipynb#X15sZmlsZQ%3D%3D?line=4'>5</a>\u001b[0m         m \u001b[39m=\u001b[39m m\u001b[39m.\u001b[39mto(device)\n\u001b[0;32m      <a href='vscode-notebook-cell:/c%3A/Users/Chen/Documents/Projects/OnlineModelComparison/Reproducion/train_ssp.ipynb#X15sZmlsZQ%3D%3D?line=5'>6</a>\u001b[0m         x \u001b[39m=\u001b[39m x\u001b[39m.\u001b[39mto(device)\n",
      "File \u001b[1;32mc:\\Users\\Chen\\anaconda3\\envs\\torch\\lib\\site-packages\\torch\\utils\\data\\dataloader.py:652\u001b[0m, in \u001b[0;36m_BaseDataLoaderIter.__next__\u001b[1;34m(self)\u001b[0m\n\u001b[0;32m    649\u001b[0m \u001b[39mif\u001b[39;00m \u001b[39mself\u001b[39m\u001b[39m.\u001b[39m_sampler_iter \u001b[39mis\u001b[39;00m \u001b[39mNone\u001b[39;00m:\n\u001b[0;32m    650\u001b[0m     \u001b[39m# TODO(https://github.com/pytorch/pytorch/issues/76750)\u001b[39;00m\n\u001b[0;32m    651\u001b[0m     \u001b[39mself\u001b[39m\u001b[39m.\u001b[39m_reset()  \u001b[39m# type: ignore[call-arg]\u001b[39;00m\n\u001b[1;32m--> 652\u001b[0m data \u001b[39m=\u001b[39m \u001b[39mself\u001b[39;49m\u001b[39m.\u001b[39;49m_next_data()\n\u001b[0;32m    653\u001b[0m \u001b[39mself\u001b[39m\u001b[39m.\u001b[39m_num_yielded \u001b[39m+\u001b[39m\u001b[39m=\u001b[39m \u001b[39m1\u001b[39m\n\u001b[0;32m    654\u001b[0m \u001b[39mif\u001b[39;00m \u001b[39mself\u001b[39m\u001b[39m.\u001b[39m_dataset_kind \u001b[39m==\u001b[39m _DatasetKind\u001b[39m.\u001b[39mIterable \u001b[39mand\u001b[39;00m \\\n\u001b[0;32m    655\u001b[0m         \u001b[39mself\u001b[39m\u001b[39m.\u001b[39m_IterableDataset_len_called \u001b[39mis\u001b[39;00m \u001b[39mnot\u001b[39;00m \u001b[39mNone\u001b[39;00m \u001b[39mand\u001b[39;00m \\\n\u001b[0;32m    656\u001b[0m         \u001b[39mself\u001b[39m\u001b[39m.\u001b[39m_num_yielded \u001b[39m>\u001b[39m \u001b[39mself\u001b[39m\u001b[39m.\u001b[39m_IterableDataset_len_called:\n",
      "File \u001b[1;32mc:\\Users\\Chen\\anaconda3\\envs\\torch\\lib\\site-packages\\torch\\utils\\data\\dataloader.py:692\u001b[0m, in \u001b[0;36m_SingleProcessDataLoaderIter._next_data\u001b[1;34m(self)\u001b[0m\n\u001b[0;32m    690\u001b[0m \u001b[39mdef\u001b[39;00m \u001b[39m_next_data\u001b[39m(\u001b[39mself\u001b[39m):\n\u001b[0;32m    691\u001b[0m     index \u001b[39m=\u001b[39m \u001b[39mself\u001b[39m\u001b[39m.\u001b[39m_next_index()  \u001b[39m# may raise StopIteration\u001b[39;00m\n\u001b[1;32m--> 692\u001b[0m     data \u001b[39m=\u001b[39m \u001b[39mself\u001b[39;49m\u001b[39m.\u001b[39;49m_dataset_fetcher\u001b[39m.\u001b[39;49mfetch(index)  \u001b[39m# may raise StopIteration\u001b[39;00m\n\u001b[0;32m    693\u001b[0m     \u001b[39mif\u001b[39;00m \u001b[39mself\u001b[39m\u001b[39m.\u001b[39m_pin_memory:\n\u001b[0;32m    694\u001b[0m         data \u001b[39m=\u001b[39m _utils\u001b[39m.\u001b[39mpin_memory\u001b[39m.\u001b[39mpin_memory(data, \u001b[39mself\u001b[39m\u001b[39m.\u001b[39m_pin_memory_device)\n",
      "File \u001b[1;32mc:\\Users\\Chen\\anaconda3\\envs\\torch\\lib\\site-packages\\torch\\utils\\data\\_utils\\fetch.py:49\u001b[0m, in \u001b[0;36m_MapDatasetFetcher.fetch\u001b[1;34m(self, possibly_batched_index)\u001b[0m\n\u001b[0;32m     47\u001b[0m \u001b[39mdef\u001b[39;00m \u001b[39mfetch\u001b[39m(\u001b[39mself\u001b[39m, possibly_batched_index):\n\u001b[0;32m     48\u001b[0m     \u001b[39mif\u001b[39;00m \u001b[39mself\u001b[39m\u001b[39m.\u001b[39mauto_collation:\n\u001b[1;32m---> 49\u001b[0m         data \u001b[39m=\u001b[39m [\u001b[39mself\u001b[39m\u001b[39m.\u001b[39mdataset[idx] \u001b[39mfor\u001b[39;00m idx \u001b[39min\u001b[39;00m possibly_batched_index]\n\u001b[0;32m     50\u001b[0m     \u001b[39melse\u001b[39;00m:\n\u001b[0;32m     51\u001b[0m         data \u001b[39m=\u001b[39m \u001b[39mself\u001b[39m\u001b[39m.\u001b[39mdataset[possibly_batched_index]\n",
      "File \u001b[1;32mc:\\Users\\Chen\\anaconda3\\envs\\torch\\lib\\site-packages\\torch\\utils\\data\\_utils\\fetch.py:49\u001b[0m, in \u001b[0;36m<listcomp>\u001b[1;34m(.0)\u001b[0m\n\u001b[0;32m     47\u001b[0m \u001b[39mdef\u001b[39;00m \u001b[39mfetch\u001b[39m(\u001b[39mself\u001b[39m, possibly_batched_index):\n\u001b[0;32m     48\u001b[0m     \u001b[39mif\u001b[39;00m \u001b[39mself\u001b[39m\u001b[39m.\u001b[39mauto_collation:\n\u001b[1;32m---> 49\u001b[0m         data \u001b[39m=\u001b[39m [\u001b[39mself\u001b[39;49m\u001b[39m.\u001b[39;49mdataset[idx] \u001b[39mfor\u001b[39;00m idx \u001b[39min\u001b[39;00m possibly_batched_index]\n\u001b[0;32m     50\u001b[0m     \u001b[39melse\u001b[39;00m:\n\u001b[0;32m     51\u001b[0m         data \u001b[39m=\u001b[39m \u001b[39mself\u001b[39m\u001b[39m.\u001b[39mdataset[possibly_batched_index]\n",
      "File \u001b[1;32mc:\\Users\\Chen\\Documents\\Projects\\OnlineModelComparison\\Reproducion\\Simulator.py:316\u001b[0m, in \u001b[0;36mSSP_DDM_Dataset.__getitem__\u001b[1;34m(self, index)\u001b[0m\n\u001b[0;32m    315\u001b[0m \u001b[39mdef\u001b[39;00m \u001b[39m__getitem__\u001b[39m(\u001b[39mself\u001b[39m, index):\n\u001b[1;32m--> 316\u001b[0m     i, params, x \u001b[39m=\u001b[39m Simulator(n_obs\u001b[39m=\u001b[39;49m\u001b[39mself\u001b[39;49m\u001b[39m.\u001b[39;49mn_obs, models\u001b[39m=\u001b[39;49m\u001b[39mself\u001b[39;49m\u001b[39m.\u001b[39;49mmodels) \u001b[39m# scalar, (1, n_obs), (1, n_obs, n_feature)\u001b[39;00m\n\u001b[0;32m    317\u001b[0m     \u001b[39m# x[:,:,1] = (x[:,:,0] > 0).astype(np.float32) # (pos and neg means acc)\u001b[39;00m\n\u001b[0;32m    318\u001b[0m     x \u001b[39m=\u001b[39m torch\u001b[39m.\u001b[39mfrom_numpy(x[\u001b[39m0\u001b[39m,:,\u001b[39m0\u001b[39m])\u001b[39m.\u001b[39munsqueeze(dim\u001b[39m=\u001b[39m\u001b[39m-\u001b[39m\u001b[39m1\u001b[39m) \u001b[39m# (n_obs, 1)\u001b[39;00m\n",
      "File \u001b[1;32mc:\\Users\\Chen\\Documents\\Projects\\OnlineModelComparison\\Reproducion\\Simulator.py:246\u001b[0m, in \u001b[0;36mSimulator\u001b[1;34m(n_prior, n_obs, models)\u001b[0m\n\u001b[0;32m    243\u001b[0m model \u001b[39m=\u001b[39m models[i]\n\u001b[0;32m    245\u001b[0m params \u001b[39m=\u001b[39m model[\u001b[39m'\u001b[39m\u001b[39mname\u001b[39m\u001b[39m'\u001b[39m]\u001b[39m.\u001b[39mprior(n_prior)\n\u001b[1;32m--> 246\u001b[0m x \u001b[39m=\u001b[39m model[\u001b[39m'\u001b[39m\u001b[39mname\u001b[39m\u001b[39m'\u001b[39m]\u001b[39m.\u001b[39mbatch_simulator(params, n_obs, \u001b[39m*\u001b[39m\u001b[39m*\u001b[39mmodel[\u001b[39m'\u001b[39m\u001b[39mkwargs\u001b[39m\u001b[39m'\u001b[39m])\n\u001b[0;32m    248\u001b[0m \u001b[39mreturn\u001b[39;00m i, param_padding(params, max_param_length\u001b[39m=\u001b[39m\u001b[39m4\u001b[39m), x\n",
      "File \u001b[1;32mc:\\Users\\Chen\\Documents\\Projects\\OnlineModelComparison\\Reproducion\\Simulator.py:204\u001b[0m, in \u001b[0;36mSSP.batch_simulator\u001b[1;34m(prior_samples, n_obs, incongruency, dt, max_iter, **kwargs)\u001b[0m\n\u001b[0;32m    202\u001b[0m \u001b[39m# Simulate diffusion data\u001b[39;00m\n\u001b[0;32m    203\u001b[0m \u001b[39mfor\u001b[39;00m i \u001b[39min\u001b[39;00m \u001b[39mrange\u001b[39m(n_sim):\n\u001b[1;32m--> 204\u001b[0m     sim_data[i] \u001b[39m=\u001b[39m SSP\u001b[39m.\u001b[39;49mdiffusion_condition(n_obs, prior_samples[i], incongruency[i], dt\u001b[39m=\u001b[39;49mdt, max_steps\u001b[39m=\u001b[39;49mmax_iter)\n\u001b[0;32m    206\u001b[0m \u001b[39mreturn\u001b[39;00m sim_data\u001b[39m.\u001b[39mastype(np\u001b[39m.\u001b[39mfloat32)\n",
      "File \u001b[1;32mc:\\Users\\Chen\\Documents\\Projects\\OnlineModelComparison\\Reproducion\\Simulator.py:180\u001b[0m, in \u001b[0;36mSSP.diffusion_condition\u001b[1;34m(n_trials, params, incongruency, dt, max_steps)\u001b[0m\n\u001b[0;32m    178\u001b[0m x \u001b[39m=\u001b[39m np\u001b[39m.\u001b[39mempty((n_trials, \u001b[39m2\u001b[39m), dtype\u001b[39m=\u001b[39mnp\u001b[39m.\u001b[39mfloat32)\n\u001b[0;32m    179\u001b[0m \u001b[39mfor\u001b[39;00m i \u001b[39min\u001b[39;00m \u001b[39mrange\u001b[39m(n_trials):\n\u001b[1;32m--> 180\u001b[0m     x[i] \u001b[39m=\u001b[39m SSP\u001b[39m.\u001b[39;49mSSP_diffusion_trial(A, ter, p, rd, nl, sdA, incongruency, dt, max_steps)\n\u001b[0;32m    181\u001b[0m \u001b[39mreturn\u001b[39;00m x\n",
      "File \u001b[1;32mc:\\Users\\Chen\\Documents\\Projects\\OnlineModelComparison\\Reproducion\\Simulator.py:148\u001b[0m, in \u001b[0;36mSSP.SSP_diffusion_trial\u001b[1;34m(A, ter, p, rd, nl, sdA, incongruency, dt, max_steps)\u001b[0m\n\u001b[0;32m    144\u001b[0m     pTarget, pFlanker \u001b[39m=\u001b[39m p, \u001b[39m-\u001b[39mp\n\u001b[0;32m    147\u001b[0m \u001b[39m# Simulate a single DM path\u001b[39;00m\n\u001b[1;32m--> 148\u001b[0m \u001b[39mwhile\u001b[39;00m (x \u001b[39m>\u001b[39m \u001b[39m-\u001b[39mA \u001b[39mand\u001b[39;00m x \u001b[39m<\u001b[39m A \u001b[39mand\u001b[39;00m n_steps \u001b[39m<\u001b[39;49m max_steps):\n\u001b[0;32m    150\u001b[0m     \u001b[39mif\u001b[39;00m incongruency \u001b[39m==\u001b[39m \u001b[39m1\u001b[39m:\n\u001b[0;32m    151\u001b[0m         \u001b[39m# Shrinking Spotlight\u001b[39;00m\n\u001b[0;32m    152\u001b[0m         sdt \u001b[39m-\u001b[39m\u001b[39m=\u001b[39m (rd \u001b[39m*\u001b[39m dt)\n",
      "\u001b[1;31mKeyboardInterrupt\u001b[0m: "
     ]
    }
   ],
   "source": [
    "rec_loss = []\n",
    "rec_acc = []\n",
    "for i_epoch in range(epoch):\n",
    "    for i ,(m,p,x) in enumerate(dataloader):\n",
    "        m = m.to(device)\n",
    "        x = x.to(device)\n",
    "        \n",
    "        optimizer.zero_grad()\n",
    "\n",
    "        alpha = evidential_net(summary_net(x))\n",
    "\n",
    "        l1 = loss_cls(alpha, m)\n",
    "        l2 = loss_kl(alpha, m)\n",
    "        l = l1 + lamb * l2\n",
    "\n",
    "        l.backward()\n",
    "        optimizer.step()\n",
    "\n",
    "        rec_loss.append(l.item())\n",
    "        rec_acc.append(((alpha.argmax(dim=-1)==m.argmax(dim=-1)).float().sum() / alpha.shape[0]).item())\n",
    "\n",
    "        # if i % 100 == 99:\n",
    "        #     print(l.item(), l1.item(), l2.item())\n",
    "\n",
    "    if 1:\n",
    "        print(f\"epoch {i_epoch}:, {sum(rec_loss) / len(rec_loss): 6.4f}, {sum(rec_acc) / len(rec_acc): 6.4f}\")\n",
    "        rec_loss = []\n",
    "        rec_acc = []\n",
    "        torch.save({\n",
    "            'summary_net': summary_net.state_dict(),\n",
    "            'evidential_net': evidential_net.state_dict()\n",
    "            }, 'ckpt_ssp.pth')\n"
   ]
  },
  {
   "cell_type": "code",
   "execution_count": null,
   "metadata": {},
   "outputs": [],
   "source": []
  }
 ],
 "metadata": {
  "kernelspec": {
   "display_name": "Python 3.10.4 ('torch')",
   "language": "python",
   "name": "python3"
  },
  "language_info": {
   "codemirror_mode": {
    "name": "ipython",
    "version": 3
   },
   "file_extension": ".py",
   "mimetype": "text/x-python",
   "name": "python",
   "nbconvert_exporter": "python",
   "pygments_lexer": "ipython3",
   "version": "3.10.4"
  },
  "orig_nbformat": 4,
  "vscode": {
   "interpreter": {
    "hash": "aecdd6190cde663648f0a71fc5ae135e7b4d9345d85802087cb839575f80a4cf"
   }
  }
 },
 "nbformat": 4,
 "nbformat_minor": 2
}
