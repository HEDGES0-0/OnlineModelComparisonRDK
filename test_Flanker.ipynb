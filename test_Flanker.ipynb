{
 "cells": [
  {
   "cell_type": "markdown",
   "metadata": {},
   "source": [
    "# evidential network"
   ]
  },
  {
   "cell_type": "markdown",
   "metadata": {},
   "source": [
    "## load network"
   ]
  },
  {
   "cell_type": "code",
   "execution_count": 2,
   "metadata": {},
   "outputs": [],
   "source": [
    "import torch\n",
    "import torch.nn as nn\n",
    "import torch.nn.functional as F\n",
    "import torch.linalg as LA\n",
    "import numpy as np\n",
    "\n",
    "from model import *\n",
    "from Simulator import *"
   ]
  },
  {
   "cell_type": "code",
   "execution_count": 3,
   "metadata": {},
   "outputs": [],
   "source": [
    "dataset = SSP_DDM_Dataset(n_obs='random', length=1000)\n",
    "dataloader = DataLoader(dataset, batch_size=1)"
   ]
  },
  {
   "cell_type": "code",
   "execution_count": 4,
   "metadata": {},
   "outputs": [],
   "source": [
    "equiv_dim, inv_dim, evid_dim = 64, 64, 128\n",
    "summary_net = InvariantNetwork(1, equiv_dim, inv_dim)\n",
    "evidential_net = EvidentialNetwork(inv_dim + 1, evid_dim, n_models=2)"
   ]
  },
  {
   "cell_type": "code",
   "execution_count": 5,
   "metadata": {},
   "outputs": [
    {
     "data": {
      "text/plain": [
       "<All keys matched successfully>"
      ]
     },
     "execution_count": 5,
     "metadata": {},
     "output_type": "execute_result"
    }
   ],
   "source": [
    "params = torch.load('ckpt_ssp.pth')\n",
    "summary_net.load_state_dict(params['summary_net'])\n",
    "evidential_net.load_state_dict(params['evidential_net'])"
   ]
  },
  {
   "cell_type": "code",
   "execution_count": 6,
   "metadata": {},
   "outputs": [],
   "source": [
    "device = 'cuda'\n",
    "summary_net = summary_net.to(device)\n",
    "evidential_net = evidential_net.to(device)"
   ]
  },
  {
   "cell_type": "markdown",
   "metadata": {},
   "source": [
    "## visualization"
   ]
  },
  {
   "cell_type": "markdown",
   "metadata": {},
   "source": [
    "### dataset"
   ]
  },
  {
   "cell_type": "code",
   "execution_count": null,
   "metadata": {},
   "outputs": [],
   "source": [
    "priors = SSP.prior(10)\n",
    "x1 = SSP.batch_simulator(priors, 100, incongruency=True)\n",
    "x2 = SSP.batch_simulator(priors, 100, incongruency=False)\n",
    "x1 = x1[:,:,0]\n",
    "x2 = x2[:,:,0]"
   ]
  },
  {
   "cell_type": "code",
   "execution_count": null,
   "metadata": {},
   "outputs": [
    {
     "data": {
      "text/plain": [
       "(0.36601594, 1.43167)"
      ]
     },
     "metadata": {},
     "output_type": "display_data"
    }
   ],
   "source": [
    "x1.mean(), x2.mean()"
   ]
  },
  {
   "cell_type": "code",
   "execution_count": null,
   "metadata": {},
   "outputs": [
    {
     "data": {
      "image/png": "[encoded data removed]",
      "text/plain": [
       "<Figure size 640x480 with 1 Axes>"
      ]
     },
     "metadata": {},
     "output_type": "display_data"
    }
   ],
   "source": [
    "fig, axes = plt.subplots(1,1)\n",
    "axes.hist(x1[0].reshape(-1), bins=30, alpha=0.5, label='incong')\n",
    "axes.hist(x2[0].reshape(-1), bins=30, alpha=0.5, label='cong')\n",
    "axes.legend()\n",
    "plt.show()"
   ]
  },
  {
   "cell_type": "code",
   "execution_count": null,
   "metadata": {},
   "outputs": [],
   "source": [
    "priors = DDM.prior(10)\n",
    "x = DDM.batch_simulator(priors, 100)"
   ]
  },
  {
   "cell_type": "code",
   "execution_count": null,
   "metadata": {},
   "outputs": [
    {
     "data": {
      "image/png": "[encoded data removed]",
      "text/plain": [
       "<Figure size 640x480 with 1 Axes>"
      ]
     },
     "metadata": {},
     "output_type": "display_data"
    }
   ],
   "source": [
    "fig, axes = plt.subplots(1,1)\n",
    "axes.hist(x[0].reshape(-1), bins=30)\n",
    "plt.show()"
   ]
  },
  {
   "cell_type": "markdown",
   "metadata": {},
   "source": [
    "### Unvertainty"
   ]
  },
  {
   "cell_type": "code",
   "execution_count": null,
   "metadata": {},
   "outputs": [],
   "source": [
    "list_acc = []\n",
    "n_nobs = 50\n",
    "for n in np.arange(1,1000, step=1):\n",
    "    params, data = DistributionDataset.sample_Normal(n_prior=n_nobs, n_obs=n)\n",
    "    pre = evidential_net.predict(summary_net(data.to(device).unsqueeze(dim=-1)), to_numpy=False)\n",
    "    list_acc.append((pre['m_probs'].argmax(dim=1)==0).sum().item()/n_nobs)"
   ]
  },
  {
   "cell_type": "code",
   "execution_count": null,
   "metadata": {},
   "outputs": [],
   "source": [
    "plt.plot(np.arange(1,1000, step=1), list_acc)\n",
    "plt.ylabel('acc')\n",
    "plt.xlabel('n_observation')\n",
    "plt.title('acc - n_observation')\n",
    "plt.show()"
   ]
  },
  {
   "cell_type": "markdown",
   "metadata": {},
   "source": [
    "### Accuracy"
   ]
  },
  {
   "cell_type": "code",
   "execution_count": null,
   "metadata": {},
   "outputs": [],
   "source": []
  },
  {
   "cell_type": "markdown",
   "metadata": {},
   "source": [
    "# flanker dataset"
   ]
  },
  {
   "cell_type": "markdown",
   "metadata": {},
   "source": [
    "## load dataset"
   ]
  },
  {
   "cell_type": "code",
   "execution_count": 7,
   "metadata": {},
   "outputs": [],
   "source": [
    "experimental_settings = ['Subject', 'Coherence', 'Spacing', 'Congruency']"
   ]
  },
  {
   "cell_type": "code",
   "execution_count": 8,
   "metadata": {},
   "outputs": [],
   "source": [
    "def load_dataset():\n",
    "    folder = r'C:\\Users\\Chen\\Documents\\Projects\\FlowParamEstim\\FlowParamEstim_RT\\FlankerCSV'\n",
    "    files_dataset = os.listdir(folder)\n",
    "    columns = ['Subject', 'Trial', 'Coherence', 'Practice', 'Block', 'Target_Direction', 'RT', 'Acc', 'Congruency', 'Spacing']\n",
    "    data = pd.DataFrame(columns=columns)\n",
    "\n",
    "    for file_name in files_dataset:\n",
    "        df = pd.read_csv(os.path.join(folder, file_name))\n",
    "        df['Subject'] = file_name.split('.')[0]\n",
    "        if 'N' in file_name:\n",
    "            df['Spacing'] = 'Narrow'\n",
    "        else:\n",
    "            df['Spacing'] = 'Wide'\n",
    "        # data = data.append(df[columns])\n",
    "        data = pd.concat([data, df[columns]])\n",
    "\n",
    "    data = data[data['Practice'] == 0]\n",
    "    data.loc[data['Acc']==0, 'RT'] = -data.loc[data['Acc']==0, 'RT']\n",
    "    data.loc[:, 'Congruency'] = 1 - data.loc[:, 'Congruency']\n",
    "    data = data.reset_index(drop=True)\n",
    "\n",
    "    return data"
   ]
  },
  {
   "cell_type": "code",
   "execution_count": 9,
   "metadata": {},
   "outputs": [],
   "source": [
    "data = load_dataset()\n"
   ]
  },
  {
   "cell_type": "code",
   "execution_count": 28,
   "metadata": {},
   "outputs": [],
   "source": [
    "def select_dataset(data, subject, coherence, spacing, congruency):\n",
    "\n",
    "    df_samp = data.loc[data['Subject']==subject].loc[data['Coherence']==coherence] \\\n",
    "        .loc[data['Spacing']==spacing].loc[data['Congruency']==congruency]\n",
    "    return df_samp[['RT', 'Congruency']].to_numpy()\n",
    "\n",
    "def divide_dataset(data):\n",
    "    # output: array(batch, n_obs, data(options: 0/1, RTs: float)), \n",
    "    # where 1 means correct options, 0 means incorrect option.\n",
    "    subjects = list(set(data['Subject']))\n",
    "    coherences = list(set(data['Coherence']))\n",
    "    spacings = list(set(data['Spacing']))\n",
    "    congruences = list(set(data['Congruency']))\n",
    "    coherences.sort()\n",
    "\n",
    "    indexes = []\n",
    "    data_array = []\n",
    "    for subject in subjects:\n",
    "        for coherence in coherences:\n",
    "            for spacing in spacings:\n",
    "                for congruency in congruences:\n",
    "                    array = select_dataset(data, subject, coherence, spacing, congruency)\n",
    "                    if array.shape[0] != 0:\n",
    "                        indexes.append((subject, coherence, spacing, congruency))\n",
    "                        data_array.append(array)\n",
    "\n",
    "    data_array = np.stack(data_array, axis=0).astype(np.float32)  \n",
    "    data_array[data_array[:,:,0]>10, 0] = 10    \n",
    "    data_array[data_array[:,:,0]<-10, 0] = -10   \n",
    "    # data_array = data_array[:, 1:, :]\n",
    "    indexes = pd.DataFrame(indexes, columns=experimental_settings)\n",
    "    indexes.loc[indexes['Congruency']==1, 'Congruency'] = 'Incongruency'\n",
    "    indexes.loc[indexes['Congruency']==0, 'Congruency'] = 'Congruency'\n",
    "    return indexes, data_array\n"
   ]
  },
  {
   "cell_type": "code",
   "execution_count": 29,
   "metadata": {},
   "outputs": [],
   "source": [
    "indexes, data_array = divide_dataset(data)"
   ]
  },
  {
   "cell_type": "code",
   "execution_count": 21,
   "metadata": {},
   "outputs": [],
   "source": [
    "x = torch.from_numpy(data_array[:,:,:1]).to(device)\n",
    "gt = torch.from_numpy(data_array[:,0,1]).to(device)"
   ]
  },
  {
   "cell_type": "code",
   "execution_count": 13,
   "metadata": {},
   "outputs": [],
   "source": [
    "alphas = evidential_net.predict(summary_net(x), to_numpy=False)"
   ]
  },
  {
   "cell_type": "code",
   "execution_count": 25,
   "metadata": {},
   "outputs": [
    {
     "data": {
      "text/plain": [
       "tensor(0.5000, device='cuda:0')"
      ]
     },
     "execution_count": 25,
     "metadata": {},
     "output_type": "execute_result"
    }
   ],
   "source": [
    "acc = (alphas['m_probs'].argmax(dim=1)==gt)\n",
    "acc.float().mean()"
   ]
  },
  {
   "cell_type": "markdown",
   "metadata": {},
   "source": [
    "## visualization"
   ]
  },
  {
   "cell_type": "code",
   "execution_count": 30,
   "metadata": {},
   "outputs": [
    {
     "data": {
      "text/plain": [
       "0       True\n",
       "1      False\n",
       "2       True\n",
       "3      False\n",
       "4       True\n",
       "       ...  \n",
       "403    False\n",
       "404     True\n",
       "405    False\n",
       "406     True\n",
       "407    False\n",
       "Name: Congruency, Length: 408, dtype: bool"
      ]
     },
     "execution_count": 30,
     "metadata": {},
     "output_type": "execute_result"
    }
   ],
   "source": [
    "indexes['Congruency'] == 'Congruency'"
   ]
  },
  {
   "cell_type": "code",
   "execution_count": 31,
   "metadata": {},
   "outputs": [
    {
     "data": {
      "text/html": [
       "<div>\n",
       "<style scoped>\n",
       "    .dataframe tbody tr th:only-of-type {\n",
       "        vertical-align: middle;\n",
       "    }\n",
       "\n",
       "    .dataframe tbody tr th {\n",
       "        vertical-align: top;\n",
       "    }\n",
       "\n",
       "    .dataframe thead th {\n",
       "        text-align: right;\n",
       "    }\n",
       "</style>\n",
       "<table border=\"1\" class=\"dataframe\">\n",
       "  <thead>\n",
       "    <tr style=\"text-align: right;\">\n",
       "      <th></th>\n",
       "      <th>Subject</th>\n",
       "      <th>Coherence</th>\n",
       "      <th>Spacing</th>\n",
       "      <th>Congruency</th>\n",
       "    </tr>\n",
       "  </thead>\n",
       "  <tbody>\n",
       "    <tr>\n",
       "      <th>0</th>\n",
       "      <td>N20</td>\n",
       "      <td>10</td>\n",
       "      <td>Narrow</td>\n",
       "      <td>Congruency</td>\n",
       "    </tr>\n",
       "    <tr>\n",
       "      <th>1</th>\n",
       "      <td>N20</td>\n",
       "      <td>10</td>\n",
       "      <td>Narrow</td>\n",
       "      <td>Incongruency</td>\n",
       "    </tr>\n",
       "    <tr>\n",
       "      <th>2</th>\n",
       "      <td>N20</td>\n",
       "      <td>20</td>\n",
       "      <td>Narrow</td>\n",
       "      <td>Congruency</td>\n",
       "    </tr>\n",
       "    <tr>\n",
       "      <th>3</th>\n",
       "      <td>N20</td>\n",
       "      <td>20</td>\n",
       "      <td>Narrow</td>\n",
       "      <td>Incongruency</td>\n",
       "    </tr>\n",
       "    <tr>\n",
       "      <th>4</th>\n",
       "      <td>N20</td>\n",
       "      <td>40</td>\n",
       "      <td>Narrow</td>\n",
       "      <td>Congruency</td>\n",
       "    </tr>\n",
       "    <tr>\n",
       "      <th>...</th>\n",
       "      <td>...</td>\n",
       "      <td>...</td>\n",
       "      <td>...</td>\n",
       "      <td>...</td>\n",
       "    </tr>\n",
       "    <tr>\n",
       "      <th>403</th>\n",
       "      <td>N17</td>\n",
       "      <td>60</td>\n",
       "      <td>Narrow</td>\n",
       "      <td>Incongruency</td>\n",
       "    </tr>\n",
       "    <tr>\n",
       "      <th>404</th>\n",
       "      <td>N17</td>\n",
       "      <td>80</td>\n",
       "      <td>Narrow</td>\n",
       "      <td>Congruency</td>\n",
       "    </tr>\n",
       "    <tr>\n",
       "      <th>405</th>\n",
       "      <td>N17</td>\n",
       "      <td>80</td>\n",
       "      <td>Narrow</td>\n",
       "      <td>Incongruency</td>\n",
       "    </tr>\n",
       "    <tr>\n",
       "      <th>406</th>\n",
       "      <td>N17</td>\n",
       "      <td>90</td>\n",
       "      <td>Narrow</td>\n",
       "      <td>Congruency</td>\n",
       "    </tr>\n",
       "    <tr>\n",
       "      <th>407</th>\n",
       "      <td>N17</td>\n",
       "      <td>90</td>\n",
       "      <td>Narrow</td>\n",
       "      <td>Incongruency</td>\n",
       "    </tr>\n",
       "  </tbody>\n",
       "</table>\n",
       "<p>408 rows × 4 columns</p>\n",
       "</div>"
      ],
      "text/plain": [
       "    Subject  Coherence Spacing    Congruency\n",
       "0       N20         10  Narrow    Congruency\n",
       "1       N20         10  Narrow  Incongruency\n",
       "2       N20         20  Narrow    Congruency\n",
       "3       N20         20  Narrow  Incongruency\n",
       "4       N20         40  Narrow    Congruency\n",
       "..      ...        ...     ...           ...\n",
       "403     N17         60  Narrow  Incongruency\n",
       "404     N17         80  Narrow    Congruency\n",
       "405     N17         80  Narrow  Incongruency\n",
       "406     N17         90  Narrow    Congruency\n",
       "407     N17         90  Narrow  Incongruency\n",
       "\n",
       "[408 rows x 4 columns]"
      ]
     },
     "execution_count": 31,
     "metadata": {},
     "output_type": "execute_result"
    }
   ],
   "source": [
    "indexes"
   ]
  },
  {
   "cell_type": "code",
   "execution_count": null,
   "metadata": {},
   "outputs": [],
   "source": []
  }
 ],
 "metadata": {
  "kernelspec": {
   "display_name": "Python 3.10.4 ('torch')",
   "language": "python",
   "name": "python3"
  },
  "language_info": {
   "codemirror_mode": {
    "name": "ipython",
    "version": 3
   },
   "file_extension": ".py",
   "mimetype": "text/x-python",
   "name": "python",
   "nbconvert_exporter": "python",
   "pygments_lexer": "ipython3",
   "version": "3.10.4"
  },
  "orig_nbformat": 4,
  "vscode": {
   "interpreter": {
    "hash": "aecdd6190cde663648f0a71fc5ae135e7b4d9345d85802087cb839575f80a4cf"
   }
  }
 },
 "nbformat": 4,
 "nbformat_minor": 2
}
